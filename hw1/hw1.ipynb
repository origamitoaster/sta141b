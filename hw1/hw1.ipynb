{
  "nbformat": 4,
  "nbformat_minor": 0,
  "metadata": {
    "colab": {
      "name": "hw1.ipynb",
      "version": "0.3.2",
      "provenance": [],
      "collapsed_sections": []
    },
    "kernelspec": {
      "display_name": "Python 3",
      "language": "python",
      "name": "python3"
    }
  },
  "cells": [
    {
      "metadata": {
        "id": "Bos49HPzcB1i",
        "colab_type": "text"
      },
      "cell_type": "markdown",
      "source": [
        "# STA 141B: Homework 1\n",
        "\n",
        "Fall 2018"
      ]
    },
    {
      "metadata": {
        "id": "OTDbt5f0cB1k",
        "colab_type": "text"
      },
      "cell_type": "markdown",
      "source": [
        "## Information\n",
        "\n",
        "After the colons (in the same line) please write just your first name, last name, and the 9 digit student ID number below.\n",
        "\n",
        "First Name: Ryan\n",
        "\n",
        "Last Name: Gosiaco\n",
        "\n",
        "Student ID: 912819444"
      ]
    },
    {
      "metadata": {
        "id": "sIljff0YcB1l",
        "colab_type": "text"
      },
      "cell_type": "markdown",
      "source": [
        "## Instructions\n",
        "\n",
        "We use a script that extracts your answers by looking for cells in between the cells containing the exercise statements.  So you \n",
        "\n",
        "- MUST add cells in between the exercise statements and add answers within them and\n",
        "- MUST NOT modify the existing cells, particularly not the problem statement\n",
        "\n",
        "To make markdown, please switch the cell type to markdown (from code) - you can hit 'm' when you are in command mode - and use the markdown language.  For a brief tutorial see: https://daringfireball.net/projects/markdown/syntax"
      ]
    },
    {
      "metadata": {
        "id": "sGcLT_imcB1o",
        "colab_type": "text"
      },
      "cell_type": "markdown",
      "source": [
        "## Part 1: The Doomsday Algorithm\n",
        "\n",
        "The Doomsday algorithm, devised by mathematician J. H. Conway, computes the day of the week any given date fell on. The algorithm is designed to be simple enough to memorize and use for mental calculation.\n",
        "\n",
        "__Example.__ With the algorithm, we can compute that July 4, 1776 (the day the United States declared independence from Great Britain) was a Thursday.\n",
        "\n",
        "The algorithm is based on the fact that for any year, several dates always fall on the same day of the week, called the <em style=\"color:#F00\">doomsday</em> for the year. These dates include 4/4, 6/6, 8/8, 10/10, and 12/12.\n",
        "\n",
        "__Example.__ The doomsday for 2016 is Monday, so in 2016 the dates above all fell on Mondays. The doomsday for 2017 is Tuesday, so in 2017 the dates above will all fall on Tuesdays.\n",
        "\n",
        "The doomsday algorithm has three major steps:\n",
        "\n",
        "1. Compute the anchor day for the target century.\n",
        "2. Compute the doomsday for the target year based on the anchor day.\n",
        "3. Determine the day of week for the target date by counting the number of days to the nearest doomsday.\n",
        "\n",
        "Each step is explained in detail below."
      ]
    },
    {
      "metadata": {
        "id": "JbAIDO69cB1r",
        "colab_type": "text"
      },
      "cell_type": "markdown",
      "source": [
        "### The Anchor Day\n",
        "\n",
        "The doomsday for the first year in a century is called the <em style=\"color:#F00\">anchor day</em> for that century. The anchor day is needed to compute the doomsday for any other year in that century. The anchor day for a century $c$ can be computed with the formula:\n",
        "$$\n",
        "a = \\bigl( 5 (c \\bmod 4) + 2 \\bigr) \\bmod 7\n",
        "$$\n",
        "The result $a$ corresponds to a day of the week, starting with $0$ for Sunday and ending with $6$ for Saturday.\n",
        "\n",
        "__Note.__ The modulo operation $(x \\bmod y)$ finds the remainder after dividing $x$ by $y$. For instance, $12 \\bmod 3 = 0$ since the remainder after dividing $12$ by $3$ is $0$. Similarly, $11 \\bmod 7 = 4$, since the remainder after dividing $11$ by $7$ is $4$.\n",
        "\n",
        "__Example.__ Suppose the target year is 1954, so the century is $c = 19$. Plugging this into the formula gives\n",
        "$$a = \\bigl( 5 (19 \\bmod 4) + 2 \\bigr) \\bmod 7 = \\bigl( 5(3) + 2 \\bigr) \\bmod 7 = 3.$$\n",
        "In other words, the anchor day for 1900-1999 is Wednesday, which is also the doomsday for 1900.\n",
        "\n",
        "__Exercise 1.1.__ Write a function that accepts a year as input and computes the anchor day for that year's century. The modulo operator `%` and integer division `\\\\` will be useful. Document your function with a docstring and test your function for a few different years."
      ]
    },
    {
      "metadata": {
        "id": "DX8V8n4v_qxV",
        "colab_type": "code",
        "colab": {
          "base_uri": "https://localhost:8080/",
          "height": 36
        },
        "outputId": "f4acae0e-aeed-468b-e070-4b3eea923640"
      },
      "cell_type": "code",
      "source": [
        "def anchor_day(year):\n",
        "  \"\"\"\n",
        "  Computes the anchor day for the given year's century.\n",
        "  \n",
        "  Parameters:\n",
        "  year (int): The year.\n",
        "  \n",
        "  Returns:\n",
        "  day (int): The day from 0-6 where Sunday is 0 and Saturday is 6.\n",
        "  \n",
        "  \"\"\"\n",
        "  c = year // 100\n",
        "  day = (5*(c%4)+2)%7\n",
        "  return day\n",
        "\n",
        "anchor_day(1954)\n"
      ],
      "execution_count": 4,
      "outputs": [
        {
          "output_type": "execute_result",
          "data": {
            "text/plain": [
              "3"
            ]
          },
          "metadata": {
            "tags": []
          },
          "execution_count": 4
        }
      ]
    },
    {
      "metadata": {
        "id": "HTXTCmt4cB1t",
        "colab_type": "text"
      },
      "cell_type": "markdown",
      "source": [
        "### The Doomsday\n",
        "\n",
        "Once the anchor day is known, let $y$ be the last two digits of the target year. Then the doomsday for the target year can be computed with the formula:\n",
        "$$d = \\left(y + \\left\\lfloor\\frac{y}{4}\\right\\rfloor + a\\right) \\bmod 7$$\n",
        "The result $d$ corresponds to a day of the week.\n",
        "\n",
        "__Note.__ The floor operation $\\lfloor x \\rfloor$ rounds $x$ down to the nearest integer. For instance, $\\lfloor 3.1 \\rfloor = 3$ and $\\lfloor 3.8 \\rfloor = 3$.\n",
        "\n",
        "__Example.__ Again suppose the target year is 1954. Then the anchor day is $a = 3$, and $y = 54$, so the formula gives\n",
        "$$\n",
        "d = \\left(54 + \\left\\lfloor\\frac{54}{4}\\right\\rfloor + 3\\right) \\bmod 7 = (54 + 13 + 3) \\bmod 7 = 0.\n",
        "$$\n",
        "Thus the doomsday for 1954 is Sunday.\n",
        "\n",
        "__Exercise 1.2.__ Write a function that accepts a year as input and computes the doomsday for that year. Your function may need to call the function you wrote in exercise 1.1. Make sure to document and test your function."
      ]
    },
    {
      "metadata": {
        "id": "qAFZxZlxAU4N",
        "colab_type": "code",
        "colab": {
          "base_uri": "https://localhost:8080/",
          "height": 34
        },
        "outputId": "bcd77836-22c1-4c52-e415-a97bc5c97354"
      },
      "cell_type": "code",
      "source": [
        "import math\n",
        "\n",
        "def doomsday(year):\n",
        "  \"\"\"\n",
        "  Computes the doomsday for the given year.\n",
        "  \n",
        "  Parameters:\n",
        "  year (int): The year.\n",
        "  \n",
        "  Returns:\n",
        "  day (int): The day from 0-6 where Sunday is 0 and Saturday is 6.\n",
        "  \n",
        "  \"\"\"\n",
        "  ad = anchor_day(year)\n",
        "  y = year%100\n",
        "  day = (y + math.floor(y/4) + ad)%7\n",
        "  return day\n",
        "\n",
        "doomsday(2001)"
      ],
      "execution_count": 26,
      "outputs": [
        {
          "output_type": "execute_result",
          "data": {
            "text/plain": [
              "3"
            ]
          },
          "metadata": {
            "tags": []
          },
          "execution_count": 26
        }
      ]
    },
    {
      "metadata": {
        "id": "4FbSlD7scB1u",
        "colab_type": "text"
      },
      "cell_type": "markdown",
      "source": [
        "### The Day of Week\n",
        "\n",
        "The final step in the Doomsday algorithm is to count the number of days between the target date and a nearby doomsday, modulo 7. This gives the day of the week.\n",
        "\n",
        "Every month has at least one doomsday:\n",
        "* (regular years) 1/10, 2/28\n",
        "* (leap years) 1/11, 2/29\n",
        "* 3/21, 4/4, 5/9, 6/6, 7/11, 8/8, 9/5, 10/10, 11/7, 12/12\n",
        "\n",
        "__Example.__ Suppose we want to find the day of the week for 7/21/1954. The doomsday for 1954 is Sunday, and a nearby doomsday is 7/11. There are 10 days in July between 7/11 and 7/21. Since $10 \\bmod 7 = 3$, the date 7/21/1954 falls 3 days after a Sunday, on a Wednesday.\n",
        "\n",
        "__Exercise 1.3.__ Write a function to determine the day of the week for a given day, month, and year. Be careful of leap years! Your function should return a string such as \"Thursday\" rather than a number. As usual, document and test your code."
      ]
    },
    {
      "metadata": {
        "id": "DXBwJ2VZCMh6",
        "colab_type": "code",
        "colab": {
          "base_uri": "https://localhost:8080/",
          "height": 34
        },
        "outputId": "64cd2191-cd14-4302-c99c-bc743728a9f3"
      },
      "cell_type": "code",
      "source": [
        "def leap_year(year):\n",
        "  \"\"\"\n",
        "  Determines if the given year is a leap year.\n",
        "  \n",
        "  Parameters:\n",
        "  year (int): The year.\n",
        "  \n",
        "  Returns:\n",
        "  boolean: True if it is a leap year, False otherwise.\n",
        "  \n",
        "  Logic referenced from https://support.microsoft.com/en-us/help/214019/method-to-determine-whether-a-year-is-a-leap-year\n",
        "  \n",
        "  \"\"\"\n",
        "  if (year%4) != 0:\n",
        "    return False\n",
        "  elif (year%100) != 0:\n",
        "    return True\n",
        "  elif (year%400) == 0:\n",
        "    return True\n",
        "  return False\n",
        "  \n",
        "leap_year(2001)\n",
        "\n",
        "from datetime import datetime as dt\n",
        "  \n",
        "def day_of_week(date):\n",
        "  \"\"\"\n",
        "  Determines the day of week of the given date.\n",
        "  \n",
        "  Parameters:\n",
        "  date (string): The date given in \"M/D/Y\" format, for example \"1/21/1990\".\n",
        "  \n",
        "  Returns:\n",
        "  string: The day of the week.\n",
        "  \n",
        "  \"\"\"\n",
        "  date_obj = dt.strptime(date, '%m/%d/%Y')\n",
        "  year = date_obj.year\n",
        "  month = date_obj.month\n",
        "  day = date_obj.day\n",
        "  \n",
        "  days = [\"Sunday\", \"Monday\", \"Tuesday\", \"Wednesday\", \"Thursday\", \"Friday\", \"Saturday\"]\n",
        "  doomsday_list = [10, 28, 21, 4, 9, 6, 11, 8, 5, 10, 7, 12]\n",
        "  leap_list = [11, 29, 21, 4, 9, 6, 11, 8, 5, 10, 7, 12]\n",
        "  leap = leap_year(year)\n",
        "  \n",
        "  if leap == True:\n",
        "    ref_day = leap_list[month - 1]\n",
        "    d_day = doomsday(year)\n",
        "    date_length = day - ref_day\n",
        "    delta = date_length%7\n",
        "    if (d_day + delta) > 6:\n",
        "      return days[d_day + delta - 7]\n",
        "    return days[d_day + delta]\n",
        "  \n",
        "  ref_day = doomsday_list[month - 1]\n",
        "  d_day = doomsday(year)\n",
        "  date_length = day - ref_day\n",
        "  delta = date_length%7\n",
        "  if (d_day + delta) > 6:\n",
        "    return days[d_day + delta - 7]\n",
        "  return days[d_day + delta]\n",
        "\n",
        "day_of_week(\"1/2/2001\")\n",
        "  \n",
        "  "
      ],
      "execution_count": 34,
      "outputs": [
        {
          "output_type": "execute_result",
          "data": {
            "text/plain": [
              "'Tuesday'"
            ]
          },
          "metadata": {
            "tags": []
          },
          "execution_count": 34
        }
      ]
    },
    {
      "metadata": {
        "id": "mWZeM_cMcB1v",
        "colab_type": "text"
      },
      "cell_type": "markdown",
      "source": [
        "__Exercise 1.4.__ Davis picks up yard waste on the first Monday of the month.  How many times did the 1st of the month (first day of the month) fall on a Monday in the years 2000-2016 (including 2016)?"
      ]
    },
    {
      "metadata": {
        "id": "LQekOriWf4t4",
        "colab_type": "code",
        "colab": {
          "base_uri": "https://localhost:8080/",
          "height": 34
        },
        "outputId": "81a1f273-9f24-4d2b-b89e-e0204c1fe84f"
      },
      "cell_type": "code",
      "source": [
        "# prob rewrite day_of_week and take out the main function of figuring out the day\n",
        "\n",
        "def first_mondays():\n",
        "  \"\"\"\n",
        "  Computes the amount of times that the 1st of the month has also been a Monday.\n",
        "  \n",
        "  Returns:\n",
        "  int: The number of Mondays that have also been the 1st of the month.\n",
        "  \n",
        "  \"\"\"\n",
        "  mondays = 0\n",
        "  start_year = 2000\n",
        "  for i in range(16):\n",
        "    for j in range(1,12):\n",
        "      day = day_of_week(str(j)+\"/1/\"+str(start_year))\n",
        "      if  day == \"Monday\":\n",
        "        mondays += 1\n",
        "    start_year = 2000 + i\n",
        "  return mondays\n",
        "\n",
        "first_mondays()\n",
        "        \n",
        "\n"
      ],
      "execution_count": 44,
      "outputs": [
        {
          "output_type": "execute_result",
          "data": {
            "text/plain": [
              "23"
            ]
          },
          "metadata": {
            "tags": []
          },
          "execution_count": 44
        }
      ]
    },
    {
      "metadata": {
        "id": "_0rITUvycB1x",
        "colab_type": "text"
      },
      "cell_type": "markdown",
      "source": [
        "## Part 2: 1978 Birthdays\n",
        "\n",
        "__Exercise 2.1.__ The file `birthdays.txt` contains the number of births in the United States for each day in 1978. Inspect the file to determine the format. Note that columns are separated by the tab character, which can be entered in Python as `\\t`. Write a function that uses iterators and list comprehensions with the string methods `split()` and `strip()` to  convert each line of data to the tuple format\n",
        "\n",
        "```Python\n",
        "(month, day, year, count)\n",
        "```\n",
        "The elements of this list should be integers, not strings.  Read in the data and create this list of tuples."
      ]
    },
    {
      "metadata": {
        "id": "BjZhPCc3RW_8",
        "colab_type": "code",
        "colab": {
          "base_uri": "https://localhost:8080/",
          "height": 131
        },
        "outputId": "a065b30c-463c-4aef-a93f-727774227569"
      },
      "cell_type": "code",
      "source": [
        "from google.colab import drive\n",
        "\n",
        "drive.mount('/content/gdrive')\n",
        "\n",
        "#This is because I used Google Colab, a free and remote Jupyter Notebook.\n",
        "#It is only used to mount the filesystem to access the birthdays.txt file.\n"
      ],
      "execution_count": 8,
      "outputs": [
        {
          "output_type": "stream",
          "text": [
            "Go to this URL in a browser: https://accounts.google.com/o/oauth2/auth?client_id=947318989803-6bn6qk8qdgf4n4g3pfee6491hc0brc4i.apps.googleusercontent.com&redirect_uri=urn%3Aietf%3Awg%3Aoauth%3A2.0%3Aoob&scope=email%20https%3A%2F%2Fwww.googleapis.com%2Fauth%2Fdocs.test%20https%3A%2F%2Fwww.googleapis.com%2Fauth%2Fdrive%20https%3A%2F%2Fwww.googleapis.com%2Fauth%2Fdrive.photos.readonly%20https%3A%2F%2Fwww.googleapis.com%2Fauth%2Fpeopleapi.readonly&response_type=code\n",
            "\n",
            "Enter your authorization code:\n",
            "··········\n",
            "Mounted at /content/gdrive\n"
          ],
          "name": "stdout"
        }
      ]
    },
    {
      "metadata": {
        "id": "H2GUC61V_QTA",
        "colab_type": "code",
        "colab": {}
      },
      "cell_type": "code",
      "source": [
        "def read_file(file_dir):\n",
        "  \"\"\"\n",
        "  Reads in the given file and strips the whitespace and header from it.\n",
        "  \n",
        "  Parameters:\n",
        "  file_dir: The location of the file that you want to open\n",
        "  \n",
        "  Returns:\n",
        "  lines (list): The file in a list object.\n",
        "  \n",
        "  \"\"\"\n",
        "  file=open(file_dir)\n",
        "  lines=[line.strip() for i,line in enumerate(file) if i>5]\n",
        "  return lines\n",
        "\n",
        "lines=read_file('/content/gdrive/My Drive/Colab Notebooks/birthdays.txt')"
      ],
      "execution_count": 0,
      "outputs": []
    },
    {
      "metadata": {
        "id": "LEIafPR7KAbe",
        "colab_type": "code",
        "colab": {}
      },
      "cell_type": "code",
      "source": [
        "def create_list(file):\n",
        "  \"\"\"\n",
        "  Takes in the raw list generated by read_file and creates the tuple of integers in the format (month, day, year, count).\n",
        "  \n",
        "  Parameters:\n",
        "  file (list): The raw list created by the read_file function.\n",
        "  \n",
        "  Returns:\n",
        "  new_file (list): A list of tuples in the format (month, day, year, count).\n",
        "  \n",
        "  \"\"\"\n",
        "  new_file = list()\n",
        "  for line in range(365):\n",
        "    new_line = file[line]\n",
        "    new_line = new_line.split(\"\\t\")\n",
        "    new_line[0] = new_line[0].split(\"/\")\n",
        "    new_line[0].append(new_line[1])\n",
        "    new_file.append(new_line[0])\n",
        "    new_file[line] = list(map(int, new_file[line]))\n",
        "  return new_file\n",
        "\n",
        "ll = create_list(lines)"
      ],
      "execution_count": 0,
      "outputs": []
    },
    {
      "metadata": {
        "id": "OrXPiksFcB10",
        "colab_type": "text"
      },
      "cell_type": "markdown",
      "source": [
        "__Exercise 2.2.__ \n",
        "\n",
        "1. Count the number of birthdays by the month (number of birthdays per month).\n",
        "2. Count the number of birthdays by the day of the week. \n",
        "\n",
        "What conclusions can you draw? You may find the `Counter` class in the `collections` module useful."
      ]
    },
    {
      "metadata": {
        "id": "Lc3j-_e-VrEm",
        "colab_type": "code",
        "colab": {
          "base_uri": "https://localhost:8080/",
          "height": 243
        },
        "outputId": "f226a953-96e5-4daa-c27e-0ef69c0b81d5"
      },
      "cell_type": "code",
      "source": [
        "import numpy as np\n",
        "\n",
        "def bday_month(list):\n",
        "  \"\"\"\n",
        "  Computes the number of birthdays per month.\n",
        "  \n",
        "  Parameters:\n",
        "  list (list): The list of birthdays with tuples in the format of (month, day, year, count).\n",
        "  \n",
        "  Returns:\n",
        "  months (array): An array of the sums where index 0 is January and index 1 is February and so forth.\n",
        "  \n",
        "  \"\"\"\n",
        "  #months = np.zeros(12)\n",
        "  months = [0, 0, 0, 0, 0, 0, 0, 0, 0, 0, 0, 0]\n",
        "  for i in range(0,365):\n",
        "    months[list[i][0] - 1] = (months[list[i][0] - 1] + list[i][3])\n",
        "  return months\n",
        "\n",
        "bday_month(ll)\n",
        "      \n",
        "    "
      ],
      "execution_count": 11,
      "outputs": [
        {
          "output_type": "execute_result",
          "data": {
            "text/plain": [
              "[270695,\n",
              " 249875,\n",
              " 276584,\n",
              " 254577,\n",
              " 270812,\n",
              " 270756,\n",
              " 294701,\n",
              " 302795,\n",
              " 293891,\n",
              " 288955,\n",
              " 274671,\n",
              " 284927]"
            ]
          },
          "metadata": {
            "tags": []
          },
          "execution_count": 11
        }
      ]
    },
    {
      "metadata": {
        "id": "OdWRqefjGIJf",
        "colab_type": "code",
        "colab": {
          "base_uri": "https://localhost:8080/",
          "height": 149
        },
        "outputId": "7e09c6fc-f794-4c94-c42d-c02d7bb2b9d0"
      },
      "cell_type": "code",
      "source": [
        "import numpy as np\n",
        "\n",
        "def bday_week(list):\n",
        "  \"\"\"\n",
        "  Computes the number of birthdays per week.\n",
        "  \n",
        "  Weeks are defined as starting on Monday and ending on Sunday, as such, the first week of 1978 starts on January 2nd.\n",
        "  \n",
        "  Parameters:\n",
        "  list (list): The list of birthdays with tuples in the format of (month, day, year, count).\n",
        "  \n",
        "  Returns:\n",
        "  weeks (array): An array of the sums where index 0 is Week 1 and index 2 is Week 2 and so forth.\n",
        "  \n",
        "  \"\"\"\n",
        "  weeks = np.zeros(52)\n",
        "  day_counter = 0\n",
        "  week_counter = 0\n",
        "  for i in range(1, 365):\n",
        "    #print(week_counter)\n",
        "    weeks[week_counter] = weeks[week_counter] + list[i][3]\n",
        "    day_counter += 1\n",
        "    if day_counter%7 == 0:\n",
        "      week_counter += 1\n",
        "  return weeks\n",
        "\n",
        "bday_week(ll)"
      ],
      "execution_count": 12,
      "outputs": [
        {
          "output_type": "execute_result",
          "data": {
            "text/plain": [
              "array([59157., 61938., 61962., 61601., 61749., 62560., 62313., 62622.,\n",
              "       62633., 62894., 62332., 61884., 61568., 60786., 58955., 59192.,\n",
              "       59884., 60252., 60589., 60986., 61975., 61118., 62119., 62216.,\n",
              "       63697., 64801., 64692., 67131., 68741., 68062., 67218., 68719.,\n",
              "       68795., 67656., 67346., 67523., 69139., 69733., 69133., 67216.,\n",
              "       65995., 64331., 63937., 63387., 64357., 64859., 62385., 64789.,\n",
              "       64356., 65412., 65108., 63735.])"
            ]
          },
          "metadata": {
            "tags": []
          },
          "execution_count": 12
        }
      ]
    },
    {
      "metadata": {
        "id": "tUrHNO7NbRzD",
        "colab_type": "text"
      },
      "cell_type": "markdown",
      "source": [
        "From the results of the amount of birthdays per month, it seems like it is somewhat evenly distributed. The month of August has the most at 302,795 and the month of February has the lowest at 249,875. \n",
        "\n",
        "This is also reflected in the amount of birthdays per week. Each week is within a few thousand birthdays with the lowest being week 15 (April 3 to April 9) at 58,955 and the highest being week 38 (September 18 to September 24) at 69,733."
      ]
    }
  ]
}