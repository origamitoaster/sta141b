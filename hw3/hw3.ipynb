{
 "cells": [
  {
   "cell_type": "markdown",
   "metadata": {},
   "source": [
    "# STA 141B: Homework 3\n",
    "\n",
    "Fall 2018"
   ]
  },
  {
   "cell_type": "markdown",
   "metadata": {},
   "source": [
    "## Information\n",
    "\n",
    "After the colons (in the same line) please write just your first name, last name, and the 9 digit student ID number below.\n",
    "\n",
    "First Name: Ryan\n",
    "\n",
    "Last Name: Gosiaco\n",
    "\n",
    "Student ID: 912819444"
   ]
  },
  {
   "cell_type": "markdown",
   "metadata": {},
   "source": [
    "## Instructions\n",
    "\n",
    "### New item: Please print your answer notebook to pdf (make sure that it is not too many pages, > 10, due to long output) and submit as the homework solution with your zip file.\n",
    "\n",
    "We use a script that extracts your answers by looking for cells in between the cells containing the exercise statements.  So you \n",
    "\n",
    "- MUST add cells in between the exercise statements and add answers within them and\n",
    "- MUST NOT modify the existing cells, particularly not the problem statement\n",
    "\n",
    "To make markdown, please switch the cell type to markdown (from code) - you can hit 'm' when you are in command mode - and use the markdown language.  For a brief tutorial see: https://daringfireball.net/projects/markdown/syntax"
   ]
  },
  {
   "cell_type": "markdown",
   "metadata": {},
   "source": [
    "### Introduction\n",
    "\n",
    "The US Department of Agriculture publishes price estimates for fruits and vegetables [online](https://www.ers.usda.gov/data-products/fruit-and-vegetable-prices/fruit-and-vegetable-prices/). The most recent estimates are based on a 2013 survey of US retail stores.\n",
    "\n",
    "The estimates are provided as a collection of MS Excel files, with one file per fruit or vegetable. The `hw3_data.zip` file contains the fruit and vegetable files in the directories `fruit` and `vegetables`, respectively."
   ]
  },
  {
   "cell_type": "markdown",
   "metadata": {},
   "source": [
    "__Exercise 1.__ Use pandas to extract the \"Fresh\" row(s) from the <strong style=\"color:#B0B\">fruit</strong> Excel files. Combine the data into a single data frame. Your data frame should look something like this:\n",
    "\n",
    "type       | food       | form   | price_per_lb | yield | lb_per_cup | price_per_cup\n",
    "---------- | ---------- | ------ | ------------ | ----- | ---------- | -------------\n",
    "fruit      | watermelon | Fresh1 | 0.333412     | 0.52  | 0.330693   | 0.212033\n",
    "fruit      | cantaloupe | Fresh1 | 0.535874     | 0.51  | 0.374786   | 0.3938\n",
    "vegetables | onions     | Fresh1 | 1.03811      | 0.9   | 0.35274    | 0.406868\n",
    "...        |            |        |              |       |            |\n",
    "\n",
    "\n",
    "It's okay if the rows and columns of your data frame are in a different order. These modules are especially relevant:\n",
    "\n",
    "* [`str` methods](https://docs.python.org/2/library/stdtypes.html#string-methods)\n",
    "* [`os`](https://docs.python.org/2/library/os.html)\n",
    "* [`os.path`](https://docs.python.org/2/library/os.path.html)\n",
    "* [pandas](http://pandas.pydata.org/pandas-docs/stable/): `read_excel()`, `concat()`, `.fillna()`, `.str`, plotting methods\n",
    "\n",
    "Ask questions and search the documentation/web to find the functions you need.\n"
   ]
  },
  {
   "cell_type": "code",
   "execution_count": 1,
   "metadata": {},
   "outputs": [],
   "source": [
    "import os\n",
    "import os.path\n",
    "import pandas as pd\n",
    "import seaborn as sns\n",
    "import numpy as np\n",
    "import matplotlib.pyplot as plt "
   ]
  },
  {
   "cell_type": "code",
   "execution_count": 2,
   "metadata": {},
   "outputs": [],
   "source": [
    "def get_data(folder_name):\n",
    "    \"\"\"Read in all excel files in folder named folder_name\n",
    "    and turn into dataframe with proper types\n",
    "    \n",
    "    Args:\n",
    "        folder_name (str): Name of the folder \n",
    "        \n",
    "    Returns:\n",
    "        df: Dataframe containing the \"Fresh1\" rows from each file in the folder\n",
    "    \"\"\"\n",
    "    path = os.getcwd()\n",
    "    path1 = os.path.join(path, folder_name)\n",
    "    names= os.listdir(path1)\n",
    "    names.sort()\n",
    "    #Create dataframe with each file name\n",
    "    title = pd.DataFrame(columns=[folder_name])\n",
    "    for line in names:\n",
    "        title = title.append({folder_name:line.split('.')[0]}, ignore_index=True)\n",
    "    #Create dataframe with each 'Fresh1' row from each file\n",
    "    df = pd.DataFrame()\n",
    "    for i in range(len(names)):\n",
    "        data=pd.read_excel(path1+'/'+names[i],header=1)\n",
    "        row = data[data['Form'].str.contains('Fresh1', na = False)]\n",
    "        row.insert(loc=0, column=folder_name, value=title.iloc[[i]])\n",
    "        df = df.append(row, ignore_index=True, sort=False)\n",
    "    #clean up df and fix column names\n",
    "    df[folder_name] = title\n",
    "    df.drop(df.columns[[3, 6, 8, 9]], axis = 1, inplace=True)\n",
    "    df.columns = ['food', 'form', 'price_per_lb', 'yield', 'lb_per_cup', 'price_per_cup']\n",
    "    df.insert(loc=0, column='type', value=folder_name)\n",
    "    df.fillna(np.nan)\n",
    "    #fix datatypes for numeric columns\n",
    "    df['price_per_lb'] = pd.to_numeric(df['price_per_lb'], errors='coerce')\n",
    "    df['yield'] = pd.to_numeric(df['yield'], errors='coerce')\n",
    "    df['lb_per_cup'] = pd.to_numeric(df['lb_per_cup'], errors='coerce')\n",
    "    df['price_per_cup'] = pd.to_numeric(df['price_per_cup'], errors='coerce')\n",
    "    return df"
   ]
  },
  {
   "cell_type": "code",
   "execution_count": 3,
   "metadata": {
    "scrolled": true
   },
   "outputs": [
    {
     "data": {
      "text/html": [
       "<div>\n",
       "<style scoped>\n",
       "    .dataframe tbody tr th:only-of-type {\n",
       "        vertical-align: middle;\n",
       "    }\n",
       "\n",
       "    .dataframe tbody tr th {\n",
       "        vertical-align: top;\n",
       "    }\n",
       "\n",
       "    .dataframe thead th {\n",
       "        text-align: right;\n",
       "    }\n",
       "</style>\n",
       "<table border=\"1\" class=\"dataframe\">\n",
       "  <thead>\n",
       "    <tr style=\"text-align: right;\">\n",
       "      <th></th>\n",
       "      <th>type</th>\n",
       "      <th>food</th>\n",
       "      <th>form</th>\n",
       "      <th>price_per_lb</th>\n",
       "      <th>yield</th>\n",
       "      <th>lb_per_cup</th>\n",
       "      <th>price_per_cup</th>\n",
       "    </tr>\n",
       "  </thead>\n",
       "  <tbody>\n",
       "    <tr>\n",
       "      <th>0</th>\n",
       "      <td>fruit</td>\n",
       "      <td>apples</td>\n",
       "      <td>Fresh1</td>\n",
       "      <td>1.567515</td>\n",
       "      <td>0.90</td>\n",
       "      <td>0.242508</td>\n",
       "      <td>0.422373</td>\n",
       "    </tr>\n",
       "    <tr>\n",
       "      <th>1</th>\n",
       "      <td>fruit</td>\n",
       "      <td>apricots</td>\n",
       "      <td>Fresh1</td>\n",
       "      <td>3.040072</td>\n",
       "      <td>0.93</td>\n",
       "      <td>0.363763</td>\n",
       "      <td>1.189102</td>\n",
       "    </tr>\n",
       "    <tr>\n",
       "      <th>2</th>\n",
       "      <td>fruit</td>\n",
       "      <td>bananas</td>\n",
       "      <td>Fresh1</td>\n",
       "      <td>0.566983</td>\n",
       "      <td>0.64</td>\n",
       "      <td>0.330693</td>\n",
       "      <td>0.292965</td>\n",
       "    </tr>\n",
       "    <tr>\n",
       "      <th>3</th>\n",
       "      <td>fruit</td>\n",
       "      <td>berries_mixed</td>\n",
       "      <td>NaN</td>\n",
       "      <td>NaN</td>\n",
       "      <td>NaN</td>\n",
       "      <td>NaN</td>\n",
       "      <td>NaN</td>\n",
       "    </tr>\n",
       "    <tr>\n",
       "      <th>4</th>\n",
       "      <td>fruit</td>\n",
       "      <td>blackberries</td>\n",
       "      <td>Fresh1</td>\n",
       "      <td>5.774708</td>\n",
       "      <td>0.96</td>\n",
       "      <td>0.319670</td>\n",
       "      <td>1.922919</td>\n",
       "    </tr>\n",
       "  </tbody>\n",
       "</table>\n",
       "</div>"
      ],
      "text/plain": [
       "    type           food     form  price_per_lb  yield  lb_per_cup  \\\n",
       "0  fruit         apples   Fresh1      1.567515   0.90    0.242508   \n",
       "1  fruit       apricots   Fresh1      3.040072   0.93    0.363763   \n",
       "2  fruit        bananas   Fresh1      0.566983   0.64    0.330693   \n",
       "3  fruit  berries_mixed      NaN           NaN    NaN         NaN   \n",
       "4  fruit   blackberries  Fresh1       5.774708   0.96    0.319670   \n",
       "\n",
       "   price_per_cup  \n",
       "0       0.422373  \n",
       "1       1.189102  \n",
       "2       0.292965  \n",
       "3            NaN  \n",
       "4       1.922919  "
      ]
     },
     "execution_count": 3,
     "metadata": {},
     "output_type": "execute_result"
    }
   ],
   "source": [
    "fruit = get_data('fruit')\n",
    "#Print first 5 lines to avoid long output\n",
    "fruit.head()"
   ]
  },
  {
   "cell_type": "code",
   "execution_count": 4,
   "metadata": {},
   "outputs": [
    {
     "name": "stdout",
     "output_type": "stream",
     "text": [
      "(29, 7)\n"
     ]
    }
   ],
   "source": [
    "print(fruit.shape)"
   ]
  },
  {
   "cell_type": "markdown",
   "metadata": {},
   "source": [
    "__Exercise 2.__ Reuse your code from exercise 1.1 to extract the \"Fresh\" row(s) from the <strong style=\"color:#B0B\">vegetable</strong> Excel files.\n",
    "\n",
    "Does your code produce the correct prices for tomatoes? If not, why not? Do any other files have the same problem as the tomatoes file?\n",
    "\n",
    "You don't need to extract the prices for these problem files. However, make sure the prices are extracted for files like asparagus that don't have this problem."
   ]
  },
  {
   "cell_type": "code",
   "execution_count": 5,
   "metadata": {},
   "outputs": [
    {
     "data": {
      "text/html": [
       "<div>\n",
       "<style scoped>\n",
       "    .dataframe tbody tr th:only-of-type {\n",
       "        vertical-align: middle;\n",
       "    }\n",
       "\n",
       "    .dataframe tbody tr th {\n",
       "        vertical-align: top;\n",
       "    }\n",
       "\n",
       "    .dataframe thead th {\n",
       "        text-align: right;\n",
       "    }\n",
       "</style>\n",
       "<table border=\"1\" class=\"dataframe\">\n",
       "  <thead>\n",
       "    <tr style=\"text-align: right;\">\n",
       "      <th></th>\n",
       "      <th>type</th>\n",
       "      <th>food</th>\n",
       "      <th>form</th>\n",
       "      <th>price_per_lb</th>\n",
       "      <th>yield</th>\n",
       "      <th>lb_per_cup</th>\n",
       "      <th>price_per_cup</th>\n",
       "    </tr>\n",
       "  </thead>\n",
       "  <tbody>\n",
       "    <tr>\n",
       "      <th>0</th>\n",
       "      <td>vegetables</td>\n",
       "      <td>acorn_squash</td>\n",
       "      <td>Fresh1</td>\n",
       "      <td>1.172248</td>\n",
       "      <td>0.458554</td>\n",
       "      <td>0.451948</td>\n",
       "      <td>1.155360</td>\n",
       "    </tr>\n",
       "    <tr>\n",
       "      <th>1</th>\n",
       "      <td>vegetables</td>\n",
       "      <td>artichoke</td>\n",
       "      <td>Fresh1</td>\n",
       "      <td>2.213050</td>\n",
       "      <td>0.375309</td>\n",
       "      <td>0.385809</td>\n",
       "      <td>2.274967</td>\n",
       "    </tr>\n",
       "    <tr>\n",
       "      <th>2</th>\n",
       "      <td>vegetables</td>\n",
       "      <td>asparagus</td>\n",
       "      <td>Fresh1</td>\n",
       "      <td>3.213494</td>\n",
       "      <td>0.493835</td>\n",
       "      <td>0.396832</td>\n",
       "      <td>2.582272</td>\n",
       "    </tr>\n",
       "    <tr>\n",
       "      <th>3</th>\n",
       "      <td>vegetables</td>\n",
       "      <td>avocados</td>\n",
       "      <td>Fresh1</td>\n",
       "      <td>2.235874</td>\n",
       "      <td>0.740753</td>\n",
       "      <td>0.319670</td>\n",
       "      <td>0.964886</td>\n",
       "    </tr>\n",
       "    <tr>\n",
       "      <th>4</th>\n",
       "      <td>vegetables</td>\n",
       "      <td>beets</td>\n",
       "      <td>NaN</td>\n",
       "      <td>NaN</td>\n",
       "      <td>NaN</td>\n",
       "      <td>NaN</td>\n",
       "      <td>NaN</td>\n",
       "    </tr>\n",
       "  </tbody>\n",
       "</table>\n",
       "</div>"
      ],
      "text/plain": [
       "         type          food    form  price_per_lb     yield  lb_per_cup  \\\n",
       "0  vegetables  acorn_squash  Fresh1      1.172248  0.458554    0.451948   \n",
       "1  vegetables     artichoke  Fresh1      2.213050  0.375309    0.385809   \n",
       "2  vegetables     asparagus  Fresh1      3.213494  0.493835    0.396832   \n",
       "3  vegetables      avocados  Fresh1      2.235874  0.740753    0.319670   \n",
       "4  vegetables         beets     NaN           NaN       NaN         NaN   \n",
       "\n",
       "   price_per_cup  \n",
       "0       1.155360  \n",
       "1       2.274967  \n",
       "2       2.582272  \n",
       "3       0.964886  \n",
       "4            NaN  "
      ]
     },
     "execution_count": 5,
     "metadata": {},
     "output_type": "execute_result"
    }
   ],
   "source": [
    "vegetables = get_data('vegetables')\n",
    "#Print first 5 lines to avoid long output\n",
    "vegetables.head()"
   ]
  },
  {
   "cell_type": "markdown",
   "metadata": {},
   "source": [
    "My code does not get the correct prices for tomatoes and for a few other vegetables (cauliflower, celery, mushrooms, spinach, etc).\n",
    "<br>\n",
    "These files have subcategories for the `'Fresh'` form such as other types of that vegetable.\n",
    "<br>\n",
    "Also, I am only filtering for `'Fresh1'` and the tomatoes file has `'Fresh'` instead but this is irrelevant since that row is still empty."
   ]
  },
  {
   "cell_type": "code",
   "execution_count": 6,
   "metadata": {},
   "outputs": [
    {
     "name": "stdout",
     "output_type": "stream",
     "text": [
      "(44, 7)\n"
     ]
    }
   ],
   "source": [
    "print(vegetables.shape)"
   ]
  },
  {
   "cell_type": "markdown",
   "metadata": {},
   "source": [
    "__Exercise 3.__ Remove rows without a price from the vegetable data frame and then combine the fruit and vegetable data frames. Make sure all columns of numbers are numeric (not strings)."
   ]
  },
  {
   "cell_type": "code",
   "execution_count": 7,
   "metadata": {},
   "outputs": [
    {
     "data": {
      "text/plain": [
       "(45, 7)"
      ]
     },
     "execution_count": 7,
     "metadata": {},
     "output_type": "execute_result"
    }
   ],
   "source": [
    "fruit = fruit.dropna()\n",
    "vegetables = vegetables.dropna()\n",
    "food = pd.concat([fruit, vegetables])\n",
    "food.shape"
   ]
  },
  {
   "cell_type": "code",
   "execution_count": 8,
   "metadata": {},
   "outputs": [
    {
     "data": {
      "text/plain": [
       "type              object\n",
       "food              object\n",
       "form              object\n",
       "price_per_lb     float64\n",
       "yield            float64\n",
       "lb_per_cup       float64\n",
       "price_per_cup    float64\n",
       "dtype: object"
      ]
     },
     "execution_count": 8,
     "metadata": {},
     "output_type": "execute_result"
    }
   ],
   "source": [
    "food.dtypes"
   ]
  },
  {
   "cell_type": "markdown",
   "metadata": {},
   "source": [
    "__Exercise 4.__ Discuss the questions below (a paragraph each is sufficient). Use plots to support your ideas.\n",
    "\n",
    "* What kinds of fruits are the most expensive (per pound)? What kinds are the least expensive?\n",
    "* How do the price distributions compare for fruit and vegetables?\n",
    "* Which foods are the best value for the price?\n",
    "* What's something surprising about this data set?\n",
    "* Which foods do you expect to provide the best combination of price, yield, and nutrition? A future assignment may combine this data set with another so you can check your hypothesis."
   ]
  },
  {
   "cell_type": "markdown",
   "metadata": {},
   "source": [
    "### What kinds of fruits are the most expensive (per pound)? What kinds are the least expensive?"
   ]
  },
  {
   "cell_type": "code",
   "execution_count": 9,
   "metadata": {
    "scrolled": false
   },
   "outputs": [
    {
     "data": {
      "text/html": [
       "<div>\n",
       "<style scoped>\n",
       "    .dataframe tbody tr th:only-of-type {\n",
       "        vertical-align: middle;\n",
       "    }\n",
       "\n",
       "    .dataframe tbody tr th {\n",
       "        vertical-align: top;\n",
       "    }\n",
       "\n",
       "    .dataframe thead th {\n",
       "        text-align: right;\n",
       "    }\n",
       "</style>\n",
       "<table border=\"1\" class=\"dataframe\">\n",
       "  <thead>\n",
       "    <tr style=\"text-align: right;\">\n",
       "      <th></th>\n",
       "      <th>type</th>\n",
       "      <th>food</th>\n",
       "      <th>form</th>\n",
       "      <th>price_per_lb</th>\n",
       "      <th>yield</th>\n",
       "      <th>lb_per_cup</th>\n",
       "      <th>price_per_cup</th>\n",
       "    </tr>\n",
       "  </thead>\n",
       "  <tbody>\n",
       "    <tr>\n",
       "      <th>25</th>\n",
       "      <td>fruit</td>\n",
       "      <td>raspberries</td>\n",
       "      <td>Fresh1</td>\n",
       "      <td>6.975811</td>\n",
       "      <td>0.96</td>\n",
       "      <td>0.319670</td>\n",
       "      <td>2.322874</td>\n",
       "    </tr>\n",
       "    <tr>\n",
       "      <th>4</th>\n",
       "      <td>fruit</td>\n",
       "      <td>blackberries</td>\n",
       "      <td>Fresh1</td>\n",
       "      <td>5.774708</td>\n",
       "      <td>0.96</td>\n",
       "      <td>0.319670</td>\n",
       "      <td>1.922919</td>\n",
       "    </tr>\n",
       "    <tr>\n",
       "      <th>5</th>\n",
       "      <td>fruit</td>\n",
       "      <td>blueberries</td>\n",
       "      <td>Fresh1</td>\n",
       "      <td>4.734622</td>\n",
       "      <td>0.95</td>\n",
       "      <td>0.319670</td>\n",
       "      <td>1.593177</td>\n",
       "    </tr>\n",
       "    <tr>\n",
       "      <th>7</th>\n",
       "      <td>fruit</td>\n",
       "      <td>cherries</td>\n",
       "      <td>Fresh1</td>\n",
       "      <td>3.592990</td>\n",
       "      <td>0.92</td>\n",
       "      <td>0.341717</td>\n",
       "      <td>1.334548</td>\n",
       "    </tr>\n",
       "    <tr>\n",
       "      <th>1</th>\n",
       "      <td>fruit</td>\n",
       "      <td>apricots</td>\n",
       "      <td>Fresh1</td>\n",
       "      <td>3.040072</td>\n",
       "      <td>0.93</td>\n",
       "      <td>0.363763</td>\n",
       "      <td>1.189102</td>\n",
       "    </tr>\n",
       "  </tbody>\n",
       "</table>\n",
       "</div>"
      ],
      "text/plain": [
       "     type          food     form  price_per_lb  yield  lb_per_cup  \\\n",
       "25  fruit   raspberries   Fresh1      6.975811   0.96    0.319670   \n",
       "4   fruit  blackberries  Fresh1       5.774708   0.96    0.319670   \n",
       "5   fruit   blueberries   Fresh1      4.734622   0.95    0.319670   \n",
       "7   fruit      cherries   Fresh1      3.592990   0.92    0.341717   \n",
       "1   fruit      apricots   Fresh1      3.040072   0.93    0.363763   \n",
       "\n",
       "    price_per_cup  \n",
       "25       2.322874  \n",
       "4        1.922919  \n",
       "5        1.593177  \n",
       "7        1.334548  \n",
       "1        1.189102  "
      ]
     },
     "execution_count": 9,
     "metadata": {},
     "output_type": "execute_result"
    }
   ],
   "source": [
    "sorted_food = food[food['type'] == 'fruit'].sort_values('price_per_lb', ascending=False) #Filter fruits and sort by price\n",
    "sorted_food.head()"
   ]
  },
  {
   "cell_type": "code",
   "execution_count": 10,
   "metadata": {
    "scrolled": true
   },
   "outputs": [
    {
     "data": {
      "text/html": [
       "<div>\n",
       "<style scoped>\n",
       "    .dataframe tbody tr th:only-of-type {\n",
       "        vertical-align: middle;\n",
       "    }\n",
       "\n",
       "    .dataframe tbody tr th {\n",
       "        vertical-align: top;\n",
       "    }\n",
       "\n",
       "    .dataframe thead th {\n",
       "        text-align: right;\n",
       "    }\n",
       "</style>\n",
       "<table border=\"1\" class=\"dataframe\">\n",
       "  <thead>\n",
       "    <tr style=\"text-align: right;\">\n",
       "      <th></th>\n",
       "      <th>type</th>\n",
       "      <th>food</th>\n",
       "      <th>form</th>\n",
       "      <th>price_per_lb</th>\n",
       "      <th>yield</th>\n",
       "      <th>lb_per_cup</th>\n",
       "      <th>price_per_cup</th>\n",
       "    </tr>\n",
       "  </thead>\n",
       "  <tbody>\n",
       "    <tr>\n",
       "      <th>14</th>\n",
       "      <td>fruit</td>\n",
       "      <td>honeydew</td>\n",
       "      <td>Fresh1</td>\n",
       "      <td>0.796656</td>\n",
       "      <td>0.46</td>\n",
       "      <td>0.374786</td>\n",
       "      <td>0.649077</td>\n",
       "    </tr>\n",
       "    <tr>\n",
       "      <th>22</th>\n",
       "      <td>fruit</td>\n",
       "      <td>pineapple</td>\n",
       "      <td>Fresh1</td>\n",
       "      <td>0.627662</td>\n",
       "      <td>0.51</td>\n",
       "      <td>0.363763</td>\n",
       "      <td>0.447686</td>\n",
       "    </tr>\n",
       "    <tr>\n",
       "      <th>2</th>\n",
       "      <td>fruit</td>\n",
       "      <td>bananas</td>\n",
       "      <td>Fresh1</td>\n",
       "      <td>0.566983</td>\n",
       "      <td>0.64</td>\n",
       "      <td>0.330693</td>\n",
       "      <td>0.292965</td>\n",
       "    </tr>\n",
       "    <tr>\n",
       "      <th>6</th>\n",
       "      <td>fruit</td>\n",
       "      <td>cantaloupe</td>\n",
       "      <td>Fresh1</td>\n",
       "      <td>0.535874</td>\n",
       "      <td>0.51</td>\n",
       "      <td>0.374786</td>\n",
       "      <td>0.393800</td>\n",
       "    </tr>\n",
       "    <tr>\n",
       "      <th>28</th>\n",
       "      <td>fruit</td>\n",
       "      <td>watermelon</td>\n",
       "      <td>Fresh1</td>\n",
       "      <td>0.333412</td>\n",
       "      <td>0.52</td>\n",
       "      <td>0.330693</td>\n",
       "      <td>0.212033</td>\n",
       "    </tr>\n",
       "  </tbody>\n",
       "</table>\n",
       "</div>"
      ],
      "text/plain": [
       "     type        food    form  price_per_lb  yield  lb_per_cup  price_per_cup\n",
       "14  fruit    honeydew  Fresh1      0.796656   0.46    0.374786       0.649077\n",
       "22  fruit   pineapple  Fresh1      0.627662   0.51    0.363763       0.447686\n",
       "2   fruit     bananas  Fresh1      0.566983   0.64    0.330693       0.292965\n",
       "6   fruit  cantaloupe  Fresh1      0.535874   0.51    0.374786       0.393800\n",
       "28  fruit  watermelon  Fresh1      0.333412   0.52    0.330693       0.212033"
      ]
     },
     "execution_count": 10,
     "metadata": {},
     "output_type": "execute_result"
    }
   ],
   "source": [
    "sorted_food.tail()"
   ]
  },
  {
   "cell_type": "markdown",
   "metadata": {},
   "source": [
    "The most expensive are raspberries (`$6.98`), blackberries (`$5.77`), blueberries (`$4.73`), and cherries (`$3.59`).\n",
    "<br>\n",
    "These expensive fruits are all berries which makes sense because of their size makes harvesting, transportation, and processing difficult.\n",
    "<br>\n",
    "The least expensive are watermelon (`$0.33`), cantaloupe (`$0.54`), bananas (`$0.57`), and pineapple (`$0.63`).\n",
    "<br>\n",
    "The least expensive fruits are very common fruits and are on the larger side when compared to the expensive berries which means that transporting and processing are not as tedious."
   ]
  },
  {
   "cell_type": "markdown",
   "metadata": {},
   "source": [
    "### How do the price distributions compare for fruit and vegetables?"
   ]
  },
  {
   "cell_type": "code",
   "execution_count": 11,
   "metadata": {
    "scrolled": false
   },
   "outputs": [
    {
     "data": {
      "text/plain": [
       "<matplotlib.legend.Legend at 0x22e606758d0>"
      ]
     },
     "execution_count": 11,
     "metadata": {},
     "output_type": "execute_result"
    },
    {
     "data": {
      "image/png": "[encoded data removed]",
      "text/plain": [
       "<Figure size 864x576 with 1 Axes>"
      ]
     },
     "metadata": {},
     "output_type": "display_data"
    }
   ],
   "source": [
    "sns.set(color_codes=True)\n",
    "plt.rcParams[\"figure.figsize\"] = [12.0, 8.0]\n",
    "sns.distplot(fruit['price_per_lb'], color='blue', label='fruit')\n",
    "sns.distplot(vegetables['price_per_lb'], color='red', label='vegetable')\n",
    "plt.legend()"
   ]
  },
  {
   "cell_type": "markdown",
   "metadata": {},
   "source": [
    "The price distribution for fruits is centered around `$1.5` or so dollars per pound and most fruits are less than `$4` per pound.\n",
    "<br>\n",
    "The price distribution for vegetables has two distinct peaks at around `$1` per pound and `$3` per pound. Also, all of the vegetables are less than `$4` per pound.\n",
    "<br>\n",
    "The graph shows that most fruits are generally cheaper vegetables."
   ]
  },
  {
   "cell_type": "markdown",
   "metadata": {},
   "source": [
    "### Which foods are the best value for the price?"
   ]
  },
  {
   "cell_type": "code",
   "execution_count": 12,
   "metadata": {
    "scrolled": false
   },
   "outputs": [
    {
     "data": {
      "image/png": "[encoded data removed]",
      "text/plain": [
       "<Figure size 1296x576 with 1 Axes>"
      ]
     },
     "metadata": {},
     "output_type": "display_data"
    }
   ],
   "source": [
    "plt.rcParams[\"figure.figsize\"] = [18.0,8.0]\n",
    "food = food.sort_values('price_per_lb')\n",
    "#Filter out foods with a yield less than 0.8 and a price higher than $4\n",
    "food = food[food['yield'] > 0.8]\n",
    "food = food[food['price_per_lb'] < 4]\n",
    "p1 = sns.scatterplot(x=food['price_per_lb'], y=food['yield'], hue='food', data=food, s=100, legend=None)\n",
    "for line in range(0,food.shape[0]):\n",
    "     p1.text(food.iloc[line,3], food.iloc[line,4]+0.005, food.iloc[line,1], horizontalalignment='left', size='medium', color='black', weight='semibold')    \n",
    "plt.show()"
   ]
  },
  {
   "cell_type": "markdown",
   "metadata": {},
   "source": [
    "I defined best value for the price as maximizing the yield while minimizing the price per pound.\n",
    "<br>\n",
    "Therefore, we are looking for points on the graph that are closest to the upper left quadrant which is why my graph only includes foods that have a yield higher than `0.8` and a price lower than `$4`.\n",
    "<br>\n",
    "Between `$0` and `$1`, the foods that are the best value are potatoes and sweet potatoes.\n",
    "<br>\n",
    "Between `$1` and `$2`, the foods that are the best value are onions, iceberg lettuce, peaches, plums.\n",
    "<br>\n",
    "Between `$2` and `$3`, the foods that are the best value are grapes, strawberries, collard greens, brussel sprouts and kale.\n",
    "<br>\n",
    "Between `$3` and `$4`, the foods that are the best value are apricots and cherries.\n",
    "<br>\n",
    "The overall best value would either be potatoes or collard greens because potatoes have a very high yield at a low price and collard greens have a yield above `1` at a fair price."
   ]
  },
  {
   "cell_type": "markdown",
   "metadata": {},
   "source": [
    "### What's something surprising about this data set?"
   ]
  },
  {
   "cell_type": "markdown",
   "metadata": {},
   "source": [
    "Many of the vegetables have various fresh forms which means that those vegetables were excluded from the dataset.\n",
    "<br>\n",
    "Another interesting thing to note is that many fruits and vegetables are below `$3` per pound.\n",
    "<br>\n",
    "Also, a few vegetables (collard greens, kale, and brussel sprouts) had a yield above `1`. This means that when they are prepared, they actually give more than their weight.\n",
    "<br>\n",
    "Another interesting thing is that each food has a price per cup which means whoever created this data had to weight the amount of food that equates to a cup.\n",
    "<br>\n",
    "Also, rather than having subcategories for each bean in one main bean file, each bean type has a different file which helps keep the files tidy because each bean seems to have two forms: canned and dried. Having all of the beans in one file would make a very complex file that is hard to look at."
   ]
  },
  {
   "cell_type": "markdown",
   "metadata": {},
   "source": [
    "### Which foods do you expect to provide the best combination of price, yield, and nutrition? A future assignment may combine this data set with another so you can check your hypothesis."
   ]
  },
  {
   "cell_type": "markdown",
   "metadata": {},
   "source": [
    "I expect foods such as potatoes, sweet potatoes, collard greens, brussel sprouts, and kale to give the best combination of price, yield, and nutrition.\n",
    "<br>\n",
    "These foods provide the best value among the other foods. Also, some of these foods are commonly reffered to as 'superfoods' due to the nutrients they contain."
   ]
  }
 ],
 "metadata": {
  "kernelspec": {
   "display_name": "Python 3",
   "language": "python",
   "name": "python3"
  },
  "language_info": {
   "codemirror_mode": {
    "name": "ipython",
    "version": 3
   },
   "file_extension": ".py",
   "mimetype": "text/x-python",
   "name": "python",
   "nbconvert_exporter": "python",
   "pygments_lexer": "ipython3",
   "version": "3.6.4"
  }
 },
 "nbformat": 4,
 "nbformat_minor": 2
}
